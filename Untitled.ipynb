{
 "cells": [
  {
   "cell_type": "code",
   "execution_count": 11,
   "id": "ca014200",
   "metadata": {},
   "outputs": [],
   "source": [
    "data_dir = \"C:\\\\Users\\\\chels\\\\Desktop\\\\Nano2pO_update\\\\processed\\\\\"\n",
    "dire = \"C:\\\\Users\\\\chels\\\\Desktop\\\\Nano2pO_update\\\\data\\\\\"\n",
    "r = 'Am'\n",
    "iter = 1"
   ]
  },
  {
   "cell_type": "code",
   "execution_count": 12,
   "id": "f0ee4947",
   "metadata": {},
   "outputs": [],
   "source": [
    "import numpy as np"
   ]
  },
  {
   "cell_type": "code",
   "execution_count": 13,
   "id": "6f0a3134",
   "metadata": {},
   "outputs": [],
   "source": [
    "Tm_pos = np.load(dire + r + '_pos.npy', allow_pickle=True) \n",
    "Tm_neg = np.load(dire + 'Am_neg.npy', allow_pickle=True) "
   ]
  },
  {
   "cell_type": "code",
   "execution_count": 14,
   "id": "6db40294",
   "metadata": {},
   "outputs": [],
   "source": [
    "y_test = np.load(data_dir + r + '\\\\imbalance_cv\\\\fold'+str(iter)+'_label.npy', allow_pickle=True)\n",
    "# nano_test = np.load(data_dir + 'fold'+str(iter)+'_nano.npy', allow_pickle=True)\n",
    "# seq_test = np.load(data_dir + 'fold'+str(iter)+'_seq.npy', allow_pickle=True)\n",
    "idx_test = np.load(data_dir + r+ '\\\\imbalance_cv\\\\fold_split_idx.npy', allow_pickle=True)"
   ]
  },
  {
   "cell_type": "code",
   "execution_count": 20,
   "id": "33da06e9",
   "metadata": {},
   "outputs": [
    {
     "data": {
      "text/plain": [
       "(3500,)"
      ]
     },
     "execution_count": 20,
     "metadata": {},
     "output_type": "execute_result"
    }
   ],
   "source": [
    "y_test.reshape(-1).shape"
   ]
  },
  {
   "cell_type": "code",
   "execution_count": 18,
   "id": "5bc7309f",
   "metadata": {},
   "outputs": [
    {
     "name": "stdout",
     "output_type": "stream",
     "text": [
      "(1273, 4168)\n",
      "[[0.     0.     0.     ... 0.     0.     1.    ]\n",
      " [0.     0.     0.     ... 0.     0.     1.    ]\n",
      " [0.     0.     0.     ... 0.     1.     0.    ]\n",
      " ...\n",
      " [0.1968 0.0979 0.1769 ... 1.     0.     0.    ]\n",
      " [0.0801 0.0984 0.1014 ... 0.     0.     0.    ]\n",
      " [0.3333 0.5    0.5    ... 0.     0.     0.    ]]\n"
     ]
    }
   ],
   "source": [
    "train_pos = np.delete(Tm_pos, idx_test.item()['pos'+str(iter)], axis = 0)\n",
    "print(train_pos.shape)\n",
    "train_neg = np.delete(Tm_pos, idx_test.item()['pos1'], axis = 0)\n",
    "print(train_neg)"
   ]
  },
  {
   "cell_type": "code",
   "execution_count": 54,
   "id": "871869de",
   "metadata": {},
   "outputs": [
    {
     "data": {
      "text/plain": [
       "(19827, 4168)"
      ]
     },
     "execution_count": 54,
     "metadata": {},
     "output_type": "execute_result"
    }
   ],
   "source": [
    "train = np.concatenate([train_pos, train_neg], axis = 0)\n",
    "train.shape"
   ]
  },
  {
   "cell_type": "code",
   "execution_count": 55,
   "id": "8c55d1ee",
   "metadata": {},
   "outputs": [
    {
     "data": {
      "text/plain": [
       "(19827, 41, 4)"
      ]
     },
     "execution_count": 55,
     "metadata": {},
     "output_type": "execute_result"
    }
   ],
   "source": [
    "nano_train = train[:,:164].reshape(-1, 4, 41).transpose([0, 2, 1]).astype(np.float32)\n",
    "neg_seq = train[:, 164:].reshape(-1, 1001, 4).astype(np.float32)\n",
    "nano_train.shap"
   ]
  },
  {
   "cell_type": "code",
   "execution_count": 77,
   "id": "d8292444",
   "metadata": {},
   "outputs": [],
   "source": [
    "y_train = np.concatenate([np.ones(train_pos.shape[0]), np.zeros(train_neg.shape[0])])"
   ]
  },
  {
   "cell_type": "code",
   "execution_count": 83,
   "id": "58798fd9",
   "metadata": {},
   "outputs": [
    {
     "data": {
      "text/plain": [
       "array([[1.],\n",
       "       [1.],\n",
       "       [1.],\n",
       "       ...,\n",
       "       [0.],\n",
       "       [0.],\n",
       "       [0.]])"
      ]
     },
     "execution_count": 83,
     "metadata": {},
     "output_type": "execute_result"
    }
   ],
   "source": []
  },
  {
   "cell_type": "code",
   "execution_count": 100,
   "id": "ff9246c8",
   "metadata": {},
   "outputs": [
    {
     "name": "stdout",
     "output_type": "stream",
     "text": [
      "0\n",
      "1\n",
      "2\n",
      "3\n",
      "4\n"
     ]
    }
   ],
   "source": [
    "i = 0\n",
    "for i in range(5):\n",
    "    print(i)"
   ]
  },
  {
   "cell_type": "code",
   "execution_count": null,
   "id": "1f31a43b",
   "metadata": {},
   "outputs": [],
   "source": []
  }
 ],
 "metadata": {
  "kernelspec": {
   "display_name": "Python 3 (ipykernel)",
   "language": "python",
   "name": "python3"
  },
  "language_info": {
   "codemirror_mode": {
    "name": "ipython",
    "version": 3
   },
   "file_extension": ".py",
   "mimetype": "text/x-python",
   "name": "python",
   "nbconvert_exporter": "python",
   "pygments_lexer": "ipython3",
   "version": "3.7.10"
  }
 },
 "nbformat": 4,
 "nbformat_minor": 5
}
